{
 "cells": [
  {
   "cell_type": "code",
   "execution_count": 2,
   "id": "17afdb1f4bd0cc53",
   "metadata": {
    "ExecuteTime": {
     "end_time": "2024-05-18T08:00:11.580151Z",
     "start_time": "2024-05-18T08:00:11.425340Z"
    },
    "collapsed": false
   },
   "outputs": [],
   "source": [
    "import os.path\n",
    "import sys\n",
    "sys.path.append('../')\n",
    "\n",
    "from procedures import parse_missing\n",
    "from importlib import reload\n",
    "from utils import load_code_graph\n"
   ]
  },
  {
   "cell_type": "code",
   "execution_count": 15,
   "id": "bb4c28be278c82d1",
   "metadata": {
    "ExecuteTime": {
     "end_time": "2024-05-18T08:00:51.438881Z",
     "start_time": "2024-05-18T08:00:51.424977Z"
    },
    "collapsed": false
   },
   "outputs": [],
   "source": [
    "import json\n",
    "import pymongo\n",
    "from utils.config import *\n",
    "client = pymongo.MongoClient(mongo_url, mongo_port)\n",
    "project_name = 'batch-processing-gateway'\n",
    "database = client[project_name]\n",
    "playground = playground_dir\n",
    "with open(os.path.join(playground, project_name, \"meta.json\"), 'r') as file:\n",
    "    meta = json.load(file)"
   ]
  },
  {
   "cell_type": "markdown",
   "id": "b0e71334880b7d56",
   "metadata": {
    "collapsed": false
   },
   "source": [
    "# Notebook to generate slice patch"
   ]
  },
  {
   "cell_type": "code",
   "execution_count": 16,
   "id": "84cc49e73df16af8",
   "metadata": {
    "ExecuteTime": {
     "end_time": "2024-05-18T08:00:52.663687Z",
     "start_time": "2024-05-18T08:00:52.323728Z"
    },
    "collapsed": false
   },
   "outputs": [
    {
     "name": "stderr",
     "output_type": "stream",
     "text": [
      "WARNING:root:\n",
      "WARNING:root:Found 0 splits\n",
      "WARNING:root:aaababababaabab\n",
      "WARNING:root:Found 6 splits\n",
      "WARNING:root:abbbbbbbbaabbbbaaabbbbb\n",
      "WARNING:root:Found 3 splits\n"
     ]
    },
    {
     "name": "stdout",
     "output_type": "stream",
     "text": [
      "Parsing missing from /root/experiments/playground/batch-processing-gateway/methods_no_slice/method_0\n",
      "Parsing missing from /root/experiments/playground/batch-processing-gateway/methods_no_slice/method_1\n",
      "No executable code from /root/experiments/playground/batch-processing-gateway/methods_no_slice/method_2\n",
      "Parsing missing from /root/experiments/playground/batch-processing-gateway/methods_no_slice/method_3\n",
      "Parsing missing from /root/experiments/playground/batch-processing-gateway/methods_no_slice/method_4\n"
     ]
    },
    {
     "name": "stderr",
     "output_type": "stream",
     "text": [
      "WARNING:root:aaabbbbbaaabbbbb\n",
      "WARNING:root:Found 2 splits\n",
      "WARNING:root:abbbbbbbbbabbbbaaababbbbb\n",
      "WARNING:root:Found 4 splits\n"
     ]
    },
    {
     "name": "stdout",
     "output_type": "stream",
     "text": [
      "Parsing missing from /root/experiments/playground/batch-processing-gateway/methods_no_slice/method_5\n",
      "No executable code from /root/experiments/playground/batch-processing-gateway/methods_no_slice/method_6\n"
     ]
    }
   ],
   "source": [
    "reload(load_code_graph)\n",
    "reload(parse_missing)\n",
    "for method_name in database.list_collection_names():\n",
    "    if method_name not in meta['method_name_to_idx']:\n",
    "        print(f\"{method_name} not found in meta. You manually delete it?\")\n",
    "        continue\n",
    "    log_dir = os.path.join(playground_dir, project_name, 'methods_no_slice', meta['method_name_to_idx'][method_name])\n",
    "    if len(os.listdir(os.path.join(log_dir, 'full_report'))) == 0:\n",
    "        print(f\"No executable code from {log_dir}\")\n",
    "        continue\n",
    "    print(f\"Parsing missing from {log_dir}\")\n",
    "    _ = parse_missing.parse_missing(log_dir, database[method_name])"
   ]
  },
  {
   "cell_type": "code",
   "execution_count": 17,
   "id": "fabaf8f5ba2d4df",
   "metadata": {
    "ExecuteTime": {
     "end_time": "2024-05-18T08:00:54.282944Z",
     "start_time": "2024-05-18T08:00:54.251615Z"
    }
   },
   "outputs": [],
   "source": [
    "# export all file lines for the Java slicer to read\n",
    "slicing = list([])\n",
    "for method_name in database.list_collection_names():\n",
    "    if method_name not in meta['method_name_to_idx']:\n",
    "        print(f\"{method_name} not found in meta. You manually delete it?\")\n",
    "        continue\n",
    "    log_dir = os.path.join(playground_dir, project_name, 'methods_no_slice', meta['method_name_to_idx'][method_name])\n",
    "    slice_path = os.path.join(log_dir, 'slice_fixing', 'missing_slices.jsonl')\n",
    "    if os.path.exists(slice_path):\n",
    "        with open(slice_path, 'r') as file:\n",
    "            content = file.read()\n",
    "            if content != \"\":\n",
    "                slicing.append(os.path.abspath(slice_path))\n",
    "    with open(os.path.join(playground_dir, project_name, \"slicing_tasks.txt\"), 'w') as file:\n",
    "        file.write('\\n'.join(slicing))"
   ]
  },
  {
   "cell_type": "code",
   "execution_count": 18,
   "id": "378ecc12fdf8243e",
   "metadata": {
    "ExecuteTime": {
     "end_time": "2024-05-18T08:00:55.048278Z",
     "start_time": "2024-05-18T08:00:54.826063Z"
    },
    "collapsed": false
   },
   "outputs": [],
   "source": [
    "# write scope file name\n",
    "from utils import test_runner\n",
    "modules = [os.path.dirname(p) for p in test_runner.parse_root_pom(meta['put_path'])]\n",
    "bin_dirs = [os.path.join(module, 'target/classes') for module in modules if os.path.exists(os.path.join(module, 'target/classes'))]\n",
    "with open(os.path.join(playground_dir, project_name, 'scope_wala.txt'), 'w') as file:\n",
    "    file.write('Primordial,Java,stdlib,base\\nPrimordial,Java,jarFile,primordial.jar.model\\n')\n",
    "    file.write('\\n'.join([f\"Application,Java,binaryDir,{bin_dir}\" for bin_dir in bin_dirs]))"
   ]
  },
  {
   "cell_type": "code",
   "execution_count": null,
   "id": "d0510a4f259ccffe",
   "metadata": {},
   "outputs": [],
   "source": []
  }
 ],
 "metadata": {
  "kernelspec": {
   "display_name": "Python 3",
   "language": "python",
   "name": "python3"
  },
  "language_info": {
   "codemirror_mode": {
    "name": "ipython",
    "version": 2
   },
   "file_extension": ".py",
   "mimetype": "text/x-python",
   "name": "python",
   "nbconvert_exporter": "python",
   "pygments_lexer": "ipython2",
   "version": "2.7.6"
  }
 },
 "nbformat": 4,
 "nbformat_minor": 5
}
