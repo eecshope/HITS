{
 "cells": [
  {
   "cell_type": "code",
   "execution_count": 1,
   "id": "initial_id",
   "metadata": {
    "ExecuteTime": {
     "end_time": "2024-05-18T07:55:08.351182Z",
     "start_time": "2024-05-18T07:55:08.337833Z"
    },
    "collapsed": true
   },
   "outputs": [
    {
     "name": "stdout",
     "output_type": "stream",
     "text": [
      "/opt/conda/envs/slicechatter/lib/python310.zip\n",
      "/opt/conda/envs/slicechatter/lib/python3.10\n",
      "/opt/conda/envs/slicechatter/lib/python3.10/lib-dynload\n",
      "\n",
      "/opt/conda/envs/slicechatter/lib/python3.10/site-packages\n",
      "/root/chatter\n"
     ]
    }
   ],
   "source": [
    "import sys\n",
    "import os\n",
    "sys.path.append(os.path.abspath(\"../\"))\n",
    "print('\\n'.join(sys.path))"
   ]
  },
  {
   "cell_type": "code",
   "execution_count": 2,
   "id": "d3f86dc5b79d8489",
   "metadata": {
    "ExecuteTime": {
     "end_time": "2024-05-18T07:55:10.111522Z",
     "start_time": "2024-05-18T07:55:10.037346Z"
    }
   },
   "outputs": [],
   "source": [
    "from importlib import reload\n",
    "import json\n",
    "from tqdm.notebook import tqdm\n",
    "from utils.config import *"
   ]
  },
  {
   "cell_type": "code",
   "execution_count": 3,
   "id": "43da65562e9eeee9",
   "metadata": {
    "ExecuteTime": {
     "end_time": "2024-05-18T07:55:12.050628Z",
     "start_time": "2024-05-18T07:55:11.963535Z"
    }
   },
   "outputs": [],
   "source": [
    "# print(f\"Counting {len(meta_info['idx_to_method_name'])} methods to test\")\n",
    "# create db connection\n",
    "from pymongo import MongoClient\n",
    "\n",
    "client = MongoClient(mongo_url, mongo_port)\n",
    "# db = client[project_name]"
   ]
  },
  {
   "cell_type": "code",
   "execution_count": 22,
   "id": "c20769bcf9d032e6",
   "metadata": {
    "ExecuteTime": {
     "end_time": "2024-05-19T13:26:13.470031Z",
     "start_time": "2024-05-19T13:26:10.479673Z"
    }
   },
   "outputs": [
    {
     "name": "stdout",
     "output_type": "stream",
     "text": [
      "Counting 7 methods to test\n"
     ]
    },
    {
     "data": {
      "application/vnd.jupyter.widget-view+json": {
       "model_id": "83919be55cd647bfac57b9a459cd7f11",
       "version_major": 2,
       "version_minor": 0
      },
      "text/plain": [
       "  0%|          | 0/7 [00:00<?, ?it/s]"
      ]
     },
     "metadata": {},
     "output_type": "display_data"
    },
    {
     "name": "stderr",
     "output_type": "stream",
     "text": [
      "WARNING:root:Found no exec file in experiment /root/experiments/playground/batch-processing-gateway/methods_no_slice/method_2\n",
      "Traceback (most recent call last):\n",
      "  File \"/root/chatter/procedures/report.py\", line 96, in single_method_analyse\n",
      "    coverage_result = jacoco_analysis(os.path.join(log_dir, \"full_report\"),\n",
      "  File \"/root/chatter/utils/report.py\", line 57, in jacoco_analysis\n",
      "    with open(html_path, \"r\") as file:\n",
      "FileNotFoundError: [Errno 2] No such file or directory: '/root/experiments/playground/batch-processing-gateway/methods_no_slice/method_2/full_report/com.apple.spark.api/SubmissionSummary.html'\n",
      "WARNING:root:Found no exec file in experiment /root/experiments/playground/batch-processing-gateway/methods_no_slice/method_6\n",
      "Traceback (most recent call last):\n",
      "  File \"/root/chatter/procedures/report.py\", line 96, in single_method_analyse\n",
      "    coverage_result = jacoco_analysis(os.path.join(log_dir, \"full_report\"),\n",
      "  File \"/root/chatter/utils/report.py\", line 57, in jacoco_analysis\n",
      "    with open(html_path, \"r\") as file:\n",
      "FileNotFoundError: [Errno 2] No such file or directory: '/root/experiments/playground/batch-processing-gateway/methods_no_slice/method_6/full_report/com.apple.spark.tools/LoadTest.html'\n"
     ]
    }
   ],
   "source": [
    "from procedures import report\n",
    "import utils.report\n",
    "\n",
    "project_name = \"batch-processing-gateway\"\n",
    "with open(os.path.join(playground_dir, project_name, \"meta.json\"), \"r\") as file:\n",
    "    meta_info = json.load(file)\n",
    "print(f\"Counting {len(meta_info['idx_to_method_name'])} methods to test\")\n",
    "db = client[project_name]\n",
    "cov_result = list([])\n",
    "\n",
    "reload(report)\n",
    "reload(utils.report)\n",
    "for method_to_test in tqdm(meta_info['method_name_to_idx']):\n",
    "    log_dir = os.path.join(playground_dir, project_name, 'methods_no_slice', meta_info['method_name_to_idx'][method_to_test])\n",
    "    collection = db.get_collection(method_to_test)\n",
    "    report.single_method_report(log_dir, collection, meta_info['put_path'], JACOCO_CLI, src_dir='src/main')\n",
    "    cov_result.append(report.single_method_analyse(log_dir, db.get_collection(method_to_test)))"
   ]
  },
  {
   "cell_type": "code",
   "execution_count": 23,
   "id": "b6b6aa11a2c964e2",
   "metadata": {
    "ExecuteTime": {
     "end_time": "2024-05-19T13:26:21.930693Z",
     "start_time": "2024-05-19T13:26:21.918449Z"
    }
   },
   "outputs": [
    {
     "data": {
      "text/plain": [
       "(55.142857142857146, 50.142857142857146)"
      ]
     },
     "execution_count": 23,
     "metadata": {},
     "output_type": "execute_result"
    }
   ],
   "source": [
    "def _report_slice(_cov_result, _n):\n",
    "        _inst = [float(item[list(item.keys())[0]]['inst_cov'][:-1]) for item in _cov_result]\n",
    "        _bran = [float(item[list(item.keys())[0]]['bran_cov'][:-1]) for item in _cov_result]\n",
    "        return sum(_inst) / _n, sum(_bran) / _n\n",
    "_report_slice(cov_result, 7)"
   ]
  },
  {
   "cell_type": "code",
   "execution_count": 6,
   "id": "ccb6c374b9aa1ee4",
   "metadata": {
    "ExecuteTime": {
     "end_time": "2024-05-08T16:13:46.258113Z",
     "start_time": "2024-05-08T16:13:43.517279Z"
    }
   },
   "outputs": [
    {
     "name": "stdout",
     "output_type": "stream",
     "text": [
      "commons-cli, 64, 10.666666666666666\n",
      "commons-codec, 309, 16.263157894736842\n",
      "batch-processing-gateway, 88, 12.571428571428571\n",
      "jdom2, 278, 13.238095238095237\n",
      "commons-collections, 199, 14.214285714285714\n",
      "ruler, 285, 17.8125\n",
      "commons-csv, 73, 12.166666666666666\n",
      "gson, 288, 13.714285714285714\n",
      "windward, 23, 11.5\n",
      "datafaker, 81, 10.125\n"
     ]
    }
   ],
   "source": [
    "# slice cnt\n",
    "import glob\n",
    "projects = os.listdir(playground_dir)\n",
    "for project in projects:\n",
    "    n = len(glob.glob(\"**/steps/log_*.txt\", root_dir=os.path.join(playground_dir, project, 'methods'), recursive=True))\n",
    "    avg = n / len(os.listdir(os.path.join(playground_dir, project, 'methods')))\n",
    "    print(f\"{project}, {n}, {avg}\")"
   ]
  },
  {
   "cell_type": "code",
   "execution_count": 5,
   "id": "9a5278ff380cdb5f",
   "metadata": {
    "ExecuteTime": {
     "end_time": "2024-05-08T16:09:21.322162Z",
     "start_time": "2024-05-08T16:09:21.305704Z"
    }
   },
   "outputs": [
    {
     "name": "stdout",
     "output_type": "stream",
     "text": [
      "playground: /root/experiments/sysprompt\n",
      "For put commons-cli: n=6\n",
      "(47.0, 46.333333333333336)\n",
      "For put commons-codec: n=19\n",
      "(43.0, 38.63157894736842)\n",
      "For put batch-processing-gateway: n=7\n",
      "(43.714285714285715, 42.0)\n",
      "For put jdom2: n=21\n",
      "(26.238095238095237, 25.952380952380953)\n",
      "For put commons-collections: n=14\n",
      "(24.928571428571427, 21.5)\n",
      "For put ruler: n=16\n",
      "(3.9375, 1.75)\n",
      "For put commons-csv: n=6\n",
      "(30.5, 29.0)\n",
      "For put gson: n=21\n",
      "(25.047619047619047, 23.666666666666668)\n",
      "For put windward: n=2\n",
      "(1.5, 1.5)\n",
      "For put datafaker: n=8\n",
      "(17.25, 20.625)\n"
     ]
    }
   ],
   "source": [
    "# batch report\n",
    "import logging\n",
    "puts = os.listdir(playground_dir)\n",
    "print(f\"playground: {playground_dir}\")\n",
    "for put in puts:\n",
    "    try:\n",
    "        with open(os.path.join(playground_dir, put, 'result.json'), 'r') as file:\n",
    "            results = json.load(file)\n",
    "        with open(os.path.join(playground_dir, put, \"meta.json\"), 'r') as file:\n",
    "            meta = json.load(file)\n",
    "            n = len(meta['method_name_to_idx'])\n",
    "    except FileNotFoundError as e:\n",
    "        logging.error(e)\n",
    "        continue\n",
    "        \n",
    "    print(f\"For put {put}: n={n}\")\n",
    "    def _report_slice(_cov_result, _n):\n",
    "        _inst = [float(item[list(item.keys())[0]]['inst_cov'][:-1]) for item in _cov_result]\n",
    "        _bran = [float(item[list(item.keys())[0]]['bran_cov'][:-1]) for item in _cov_result]\n",
    "        return sum(_inst) / _n, sum(_bran) / _n\n",
    "    print(_report_slice(results, n))# cnt pass rate"
   ]
  },
  {
   "cell_type": "code",
   "execution_count": null,
   "id": "41207e794445480e",
   "metadata": {},
   "outputs": [],
   "source": [
    "# compile & run counting\n",
    "projects = os.listdir(playground_dir)\n",
    "for project in projects:\n",
    "    method_experiment_roots = glob.glob(os.path.join(playground_dir, project, 'methods', 'method_*', 'fixing'))\n",
    "    print('\\n'.join(method_experiment_roots))"
   ]
  }
 ],
 "metadata": {
  "kernelspec": {
   "display_name": "Python 3",
   "language": "python",
   "name": "python3"
  },
  "language_info": {
   "codemirror_mode": {
    "name": "ipython",
    "version": 2
   },
   "file_extension": ".py",
   "mimetype": "text/x-python",
   "name": "python",
   "nbconvert_exporter": "python",
   "pygments_lexer": "ipython2",
   "version": "2.7.6"
  }
 },
 "nbformat": 4,
 "nbformat_minor": 5
}
